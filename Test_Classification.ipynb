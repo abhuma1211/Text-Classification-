{
 "cells": [
  {
   "cell_type": "markdown",
   "metadata": {},
   "source": [
    "# LOADING CLEANED DATA INTO DATAFRAME"
   ]
  },
  {
   "cell_type": "code",
   "execution_count": 1,
   "metadata": {},
   "outputs": [
    {
     "data": {
      "text/html": [
       "<div>\n",
       "<style scoped>\n",
       "    .dataframe tbody tr th:only-of-type {\n",
       "        vertical-align: middle;\n",
       "    }\n",
       "\n",
       "    .dataframe tbody tr th {\n",
       "        vertical-align: top;\n",
       "    }\n",
       "\n",
       "    .dataframe thead th {\n",
       "        text-align: right;\n",
       "    }\n",
       "</style>\n",
       "<table border=\"1\" class=\"dataframe\">\n",
       "  <thead>\n",
       "    <tr style=\"text-align: right;\">\n",
       "      <th></th>\n",
       "      <th>previous_appointment</th>\n",
       "      <th>categories</th>\n",
       "      <th>sub_categories</th>\n",
       "      <th>mix</th>\n",
       "    </tr>\n",
       "  </thead>\n",
       "  <tbody>\n",
       "    <tr>\n",
       "      <th>0</th>\n",
       "      <td>0</td>\n",
       "      <td>PRESCRIPTION</td>\n",
       "      <td>REFILL</td>\n",
       "      <td>pt aware need rov refil phone note call patien...</td>\n",
       "    </tr>\n",
       "    <tr>\n",
       "      <th>1</th>\n",
       "      <td>0</td>\n",
       "      <td>ASK_A_DOCTOR</td>\n",
       "      <td>MEDICATION RELATED</td>\n",
       "      <td>mom want know focalin need dosage adjust phone...</td>\n",
       "    </tr>\n",
       "    <tr>\n",
       "      <th>2</th>\n",
       "      <td>0</td>\n",
       "      <td>ASK_A_DOCTOR</td>\n",
       "      <td>MEDICATION RELATED</td>\n",
       "      <td>pt call discuss nortryptiline say weird tas ph...</td>\n",
       "    </tr>\n",
       "    <tr>\n",
       "      <th>3</th>\n",
       "      <td>0</td>\n",
       "      <td>MISCELLANEOUS</td>\n",
       "      <td>OTHERS</td>\n",
       "      <td>fyi nortryptline medicaid phone note call pati...</td>\n",
       "    </tr>\n",
       "    <tr>\n",
       "      <th>4</th>\n",
       "      <td>0</td>\n",
       "      <td>MISCELLANEOUS</td>\n",
       "      <td>SHARING OF HEALTH RECORDS (FAX, E-MAIL, ETC.)</td>\n",
       "      <td>letter patient establish request phone note ca...</td>\n",
       "    </tr>\n",
       "  </tbody>\n",
       "</table>\n",
       "</div>"
      ],
      "text/plain": [
       "   previous_appointment     categories  \\\n",
       "0                     0   PRESCRIPTION   \n",
       "1                     0   ASK_A_DOCTOR   \n",
       "2                     0   ASK_A_DOCTOR   \n",
       "3                     0  MISCELLANEOUS   \n",
       "4                     0  MISCELLANEOUS   \n",
       "\n",
       "                                  sub_categories  \\\n",
       "0                                         REFILL   \n",
       "1                             MEDICATION RELATED   \n",
       "2                             MEDICATION RELATED   \n",
       "3                                         OTHERS   \n",
       "4  SHARING OF HEALTH RECORDS (FAX, E-MAIL, ETC.)   \n",
       "\n",
       "                                                 mix  \n",
       "0  pt aware need rov refil phone note call patien...  \n",
       "1  mom want know focalin need dosage adjust phone...  \n",
       "2  pt call discuss nortryptiline say weird tas ph...  \n",
       "3  fyi nortryptline medicaid phone note call pati...  \n",
       "4  letter patient establish request phone note ca...  "
      ]
     },
     "execution_count": 1,
     "metadata": {},
     "output_type": "execute_result"
    }
   ],
   "source": [
    "import pandas as pd\n",
    "df=pd.read_csv('data_cleaned.csv',encoding='latin1')\n",
    "\n",
    "#creating corpus\n",
    "corpus=df.copy()\n",
    "\n",
    "#creating new column mix in dataframe which contains words from both summary and data columns\n",
    "corpus['mix']=corpus['summary']+' '+corpus['data']\n",
    "\n",
    "corpus.drop(['summary','data'],axis=1,inplace=True)\n",
    "\n",
    "corpus.head()"
   ]
  },
  {
   "cell_type": "markdown",
   "metadata": {},
   "source": [
    "# DIVIDING INTO TRAIN AND TEST SETS"
   ]
  },
  {
   "cell_type": "code",
   "execution_count": 2,
   "metadata": {},
   "outputs": [],
   "source": [
    "#creating feature variables and target variables\n",
    "X=corpus['mix']\n",
    "y1=corpus['categories']\n",
    "y2=corpus['sub_categories']\n",
    "\n",
    "#dividing into train and test sets\n",
    "from sklearn.model_selection import train_test_split\n",
    "X_train,X_test,y1_train,y1_test=train_test_split(X,y1,test_size=0.3,random_state=42)"
   ]
  },
  {
   "cell_type": "markdown",
   "metadata": {},
   "source": [
    "# CONVERTING TRAIN AND TEST DATA INTO TERM DOCUMENT MATRICES"
   ]
  },
  {
   "cell_type": "code",
   "execution_count": 3,
   "metadata": {},
   "outputs": [],
   "source": [
    "#converting train data into term document matrix\n",
    "from sklearn.feature_extraction.text import TfidfVectorizer\n",
    "vect=TfidfVectorizer()\n",
    "X_train_tdm=vect.fit_transform(X_train.values.astype('U'))"
   ]
  },
  {
   "cell_type": "code",
   "execution_count": 5,
   "metadata": {},
   "outputs": [],
   "source": [
    "#converting test data into term document matrix\n",
    "X_test_tdm=vect.transform(X_test.values.astype('U'))"
   ]
  },
  {
   "cell_type": "markdown",
   "metadata": {},
   "source": [
    "# PREDICTING CATEGORIES USING NAIVE_BAYES AND SVM"
   ]
  },
  {
   "cell_type": "code",
   "execution_count": 8,
   "metadata": {
    "scrolled": true
   },
   "outputs": [
    {
     "data": {
      "text/plain": [
       "(0.80505749969086182, 0.73061703969333502)"
      ]
     },
     "execution_count": 8,
     "metadata": {},
     "output_type": "execute_result"
    }
   ],
   "source": [
    "from sklearn import metrics\n",
    "\n",
    "#training naive_bayes model to predict categories\n",
    "from sklearn.naive_bayes import MultinomialNB\n",
    "nb=MultinomialNB()\n",
    "nb.fit(X_train_tdm,y1_train)\n",
    "y1_pred_naive=nb.predict(X_test_tdm)\n",
    "\n",
    "#training SVM model to predict categories\n",
    "from sklearn.svm import LinearSVC\n",
    "s=LinearSVC()\n",
    "s.fit(X_train_tdm,y1_train)\n",
    "y1_pred_svm=s.predict(X_test_tdm)\n",
    "\n",
    "metrics.accuracy_score(y1_pred_svm,y1_test),metrics.accuracy_score(y1_pred_naive,y1_test)"
   ]
  },
  {
   "cell_type": "markdown",
   "metadata": {},
   "source": [
    "# PREDICTING SUB_CATEGORIES USING NAIVE_BAYES AND SVM "
   ]
  },
  {
   "cell_type": "code",
   "execution_count": 9,
   "metadata": {},
   "outputs": [
    {
     "data": {
      "text/plain": [
       "(0.72505255348089526, 0.52769877581303326)"
      ]
     },
     "execution_count": 9,
     "metadata": {},
     "output_type": "execute_result"
    }
   ],
   "source": [
    "#training naive_bayes model to predict sub_categories\n",
    "X_train,X_test,y2_train,y2_test=train_test_split(X,y2,test_size=0.3,random_state=42)\n",
    "nb.fit(X_train_tdm,y2_train)\n",
    "y2_pred_naive=nb.predict(X_test_tdm)\n",
    "\n",
    "#training SVM model to predict sub_categories\n",
    "s.fit(X_train_tdm,y2_train)\n",
    "y2_pred_svm=s.predict(X_test_tdm)\n",
    "\n",
    "metrics.accuracy_score(y2_pred_svm,y2_test),metrics.accuracy_score(y2_pred_naive,y2_test)"
   ]
  },
  {
   "cell_type": "markdown",
   "metadata": {},
   "source": [
    "# PREDICTING SUB_CATEGORIES FOR EACH CATEGORY"
   ]
  },
  {
   "cell_type": "code",
   "execution_count": 62,
   "metadata": {},
   "outputs": [
    {
     "data": {
      "text/plain": [
       "PRESCRIPTION     14499\n",
       "APPOINTMENTS     12960\n",
       "ASK_A_DOCTOR     11744\n",
       "MISCELLANEOUS    10462\n",
       "LAB               4246\n",
       "Name: categories, dtype: int64"
      ]
     },
     "execution_count": 62,
     "metadata": {},
     "output_type": "execute_result"
    }
   ],
   "source": [
    "#loading dataframe and creating corpus\n",
    "import pandas as pd\n",
    "df1=pd.read_csv('data_cleaned.csv',encoding='latin1')\n",
    "\n",
    "corpus=df1.copy()\n",
    "\n",
    "corpus['mix']=corpus['summary']+' '+corpus['data']\n",
    "\n",
    "corpus.drop(['summary','data'],axis=1,inplace=True)\n",
    "\n",
    "corpus['categories'].value_counts()"
   ]
  },
  {
   "cell_type": "markdown",
   "metadata": {},
   "source": [
    "# FOR CATEGORY \"PRESCRIPTIONS\""
   ]
  },
  {
   "cell_type": "code",
   "execution_count": 64,
   "metadata": {},
   "outputs": [
    {
     "data": {
      "text/plain": [
       "(0.92229885057471261, 0.73195402298850576)"
      ]
     },
     "execution_count": 64,
     "metadata": {},
     "output_type": "execute_result"
    }
   ],
   "source": [
    "#creating a corpus with only PRESCRIPTION as category\n",
    "corpus1=corpus[corpus['categories']=='PRESCRIPTION']\n",
    "\n",
    "X1=corpus1['mix']\n",
    "y1=corpus1['sub_categories']\n",
    "\n",
    "#dividing into train and test sets\n",
    "from sklearn.model_selection import train_test_split\n",
    "X1_train,X1_test,y1_train,y1_test=train_test_split(X1,y1,test_size=0.3,random_state=42)\n",
    "\n",
    "#converting into term document matrices\n",
    "from sklearn.feature_extraction.text import TfidfVectorizer\n",
    "vect1=TfidfVectorizer()\n",
    "X1_train_tdm=vect1.fit_transform(X1_train.values.astype('U'))\n",
    "X1_test_tdm=vect1.transform(X1_test.values.astype('U'))\n",
    "\n",
    "#training SVM model\n",
    "from sklearn.svm import LinearSVC\n",
    "s=LinearSVC()\n",
    "s.fit(X1_train_tdm,y1_train)\n",
    "\n",
    "#training naive_bayes model\n",
    "from sklearn.naive_bayes import MultinomialNB\n",
    "nb=MultinomialNB()\n",
    "nb.fit(X1_train_tdm,y1_train)\n",
    "\n",
    "#predicting using SVM and Naive_Bayes\n",
    "y1_pred_svm=s.predict(X1_test_tdm)\n",
    "y1_pred_naive=nb.predict(X1_test_tdm)\n",
    "\n",
    "from sklearn import metrics\n",
    "metrics.accuracy_score(y1_pred_svm,y1_test),metrics.accuracy_score(y1_pred_naive,y1_test)\n"
   ]
  },
  {
   "cell_type": "markdown",
   "metadata": {},
   "source": [
    "# FOR CATEGORY \"APPOINTMENTS\""
   ]
  },
  {
   "cell_type": "code",
   "execution_count": 65,
   "metadata": {},
   "outputs": [
    {
     "data": {
      "text/plain": [
       "(0.87860082304526754, 0.76851851851851849)"
      ]
     },
     "execution_count": 65,
     "metadata": {},
     "output_type": "execute_result"
    }
   ],
   "source": [
    "#creating a corpus with only APPOINTMENTS as category\n",
    "corpus2=corpus[corpus['categories']=='APPOINTMENTS']\n",
    "\n",
    "X2=corpus2['mix']\n",
    "y2=corpus2['sub_categories']\n",
    "\n",
    "#dividing into train and test sets\n",
    "from sklearn.model_selection import train_test_split\n",
    "X2_train,X2_test,y2_train,y2_test=train_test_split(X2,y2,test_size=0.3,random_state=42)\n",
    "\n",
    "#converting into term document matrices\n",
    "from sklearn.feature_extraction.text import TfidfVectorizer\n",
    "vect1=TfidfVectorizer()\n",
    "X2_train_tdm=vect1.fit_transform(X2_train.values.astype('U'))\n",
    "X2_test_tdm=vect1.transform(X2_test.values.astype('U'))\n",
    "\n",
    "#training SVM model\n",
    "from sklearn.svm import LinearSVC\n",
    "s=LinearSVC()\n",
    "s.fit(X2_train_tdm,y2_train)\n",
    "\n",
    "#training naive_bayes model\n",
    "from sklearn.naive_bayes import MultinomialNB\n",
    "nb=MultinomialNB()\n",
    "nb.fit(X2_train_tdm,y2_train)\n",
    "\n",
    "#predicting using SVM and Naive_Bayes\n",
    "y2_pred_svm=s.predict(X2_test_tdm)\n",
    "y2_pred_naive=nb.predict(X2_test_tdm)\n",
    "\n",
    "metrics.accuracy_score(y2_pred_svm,y2_test),metrics.accuracy_score(y2_pred_naive,y2_test)\n"
   ]
  },
  {
   "cell_type": "markdown",
   "metadata": {},
   "source": [
    "# FOR CATEGORY \"ASK_A_DOCTOR\""
   ]
  },
  {
   "cell_type": "code",
   "execution_count": 66,
   "metadata": {},
   "outputs": [
    {
     "data": {
      "text/plain": [
       "(0.89982973893303064, 0.90607264472190696)"
      ]
     },
     "execution_count": 66,
     "metadata": {},
     "output_type": "execute_result"
    }
   ],
   "source": [
    "#creating a corpus with only ASK_A_DOCTOR as category\n",
    "corpus3=corpus[corpus['categories']=='ASK_A_DOCTOR']\n",
    "\n",
    "X3=corpus3['mix']\n",
    "y3=corpus3['sub_categories']\n",
    "\n",
    "#dividing into train and test sets\n",
    "from sklearn.model_selection import train_test_split\n",
    "X3_train,X3_test,y3_train,y3_test=train_test_split(X3,y3,test_size=0.3,random_state=42)\n",
    "\n",
    "#converting into term document matrices\n",
    "from sklearn.feature_extraction.text import TfidfVectorizer\n",
    "vect1=TfidfVectorizer()\n",
    "X3_train_tdm=vect1.fit_transform(X3_train.values.astype('U'))\n",
    "X3_test_tdm=vect1.transform(X3_test.values.astype('U'))\n",
    "\n",
    "#training SVM model\n",
    "from sklearn.svm import LinearSVC\n",
    "s=LinearSVC()\n",
    "s.fit(X3_train_tdm,y3_train)\n",
    "\n",
    "#training naive_bayes model\n",
    "from sklearn.naive_bayes import MultinomialNB\n",
    "nb=MultinomialNB()\n",
    "nb.fit(X3_train_tdm,y3_train)\n",
    "\n",
    "#predicting using SVM and Naive_Bayes\n",
    "y3_pred_svm=s.predict(X3_test_tdm)\n",
    "y3_pred_naive=nb.predict(X3_test_tdm)\n",
    "\n",
    "metrics.accuracy_score(y3_pred_svm,y3_test),metrics.accuracy_score(y3_pred_naive,y3_test)\n"
   ]
  },
  {
   "cell_type": "markdown",
   "metadata": {},
   "source": [
    "# FOR CATEGORY \"MISCELLANEOUS\""
   ]
  },
  {
   "cell_type": "code",
   "execution_count": 67,
   "metadata": {},
   "outputs": [
    {
     "data": {
      "text/plain": [
       "(0.83689072953169796, 0.72857597961134124)"
      ]
     },
     "execution_count": 67,
     "metadata": {},
     "output_type": "execute_result"
    }
   ],
   "source": [
    "#creating a corpus with only MISCELLANEOUS as category\n",
    "corpus4=corpus[corpus['categories']=='MISCELLANEOUS']\n",
    "\n",
    "X4=corpus4['mix']\n",
    "y4=corpus4['sub_categories']\n",
    "\n",
    "#dividing into train and test sets\n",
    "from sklearn.model_selection import train_test_split\n",
    "X4_train,X4_test,y4_train,y4_test=train_test_split(X4,y4,test_size=0.3,random_state=42)\n",
    "\n",
    "#converting into term document matrices\n",
    "from sklearn.feature_extraction.text import TfidfVectorizer\n",
    "vect1=TfidfVectorizer()\n",
    "X4_train_tdm=vect1.fit_transform(X4_train.values.astype('U'))\n",
    "X4_test_tdm=vect1.transform(X4_test.values.astype('U'))\n",
    "\n",
    "#training SVM model\n",
    "from sklearn.svm import LinearSVC\n",
    "s=LinearSVC()\n",
    "s.fit(X4_train_tdm,y4_train)\n",
    "\n",
    "#training naive_bayes model\n",
    "from sklearn.naive_bayes import MultinomialNB\n",
    "nb=MultinomialNB()\n",
    "nb.fit(X4_train_tdm,y4_train)\n",
    "\n",
    "#predicting using SVM and Naive_Bayes\n",
    "y4_pred_svm=s.predict(X4_test_tdm)\n",
    "y4_pred_naive=nb.predict(X4_test_tdm)\n",
    "\n",
    "metrics.accuracy_score(y4_pred_svm,y4_test),metrics.accuracy_score(y4_pred_naive,y4_test)\n"
   ]
  },
  {
   "cell_type": "markdown",
   "metadata": {},
   "source": [
    "# FOR CATEGORY \"LAB\""
   ]
  },
  {
   "cell_type": "code",
   "execution_count": 68,
   "metadata": {},
   "outputs": [
    {
     "data": {
      "text/plain": [
       "(0.89560439560439564, 0.78178963893249609)"
      ]
     },
     "execution_count": 68,
     "metadata": {},
     "output_type": "execute_result"
    }
   ],
   "source": [
    "#creating a corpus with only LAB as category\n",
    "corpus5=corpus[corpus['categories']=='LAB']\n",
    "\n",
    "X5=corpus5['mix']\n",
    "y5=corpus5['sub_categories']\n",
    "\n",
    "#dividing into train and test sets\n",
    "from sklearn.model_selection import train_test_split\n",
    "X5_train,X5_test,y5_train,y5_test=train_test_split(X5,y5,test_size=0.3,random_state=42)\n",
    "\n",
    "#converting into term document matrices\n",
    "from sklearn.feature_extraction.text import TfidfVectorizer\n",
    "vect1=TfidfVectorizer()\n",
    "X5_train_tdm=vect1.fit_transform(X5_train.values.astype('U'))\n",
    "X5_test_tdm=vect1.transform(X5_test.values.astype('U'))\n",
    "\n",
    "#training SVM model\n",
    "from sklearn.svm import LinearSVC\n",
    "s=LinearSVC()\n",
    "s.fit(X5_train_tdm,y5_train)\n",
    "\n",
    "#training naive_bayes model\n",
    "from sklearn.naive_bayes import MultinomialNB\n",
    "nb=MultinomialNB()\n",
    "nb.fit(X5_train_tdm,y5_train)\n",
    "\n",
    "#predicting using SVM and Naive_Bayes\n",
    "y5_pred_svm=s.predict(X5_test_tdm)\n",
    "y5_pred_naive=nb.predict(X5_test_tdm)\n",
    "\n",
    "metrics.accuracy_score(y5_pred_svm,y5_test),metrics.accuracy_score(y5_pred_naive,y5_test)\n"
   ]
  },
  {
   "cell_type": "code",
   "execution_count": null,
   "metadata": {},
   "outputs": [],
   "source": []
  }
 ],
 "metadata": {
  "kernelspec": {
   "display_name": "Python 3",
   "language": "python",
   "name": "python3"
  },
  "language_info": {
   "codemirror_mode": {
    "name": "ipython",
    "version": 3
   },
   "file_extension": ".py",
   "mimetype": "text/x-python",
   "name": "python",
   "nbconvert_exporter": "python",
   "pygments_lexer": "ipython3",
   "version": "3.6.3"
  }
 },
 "nbformat": 4,
 "nbformat_minor": 2
}
